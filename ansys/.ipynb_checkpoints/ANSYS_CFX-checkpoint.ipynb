{
 "cells": [
  {
   "cell_type": "markdown",
   "metadata": {},
   "source": [
    "# ANSYS CFX Joblauncher"
   ]
  },
  {
   "cell_type": "markdown",
   "metadata": {},
   "source": [
    "### Initialy, Please click \"▶▶\" button on this screen."
   ]
  },
  {
   "cell_type": "code",
   "execution_count": 1,
   "metadata": {
    "jupyter": {
     "source_hidden": true
    }
   },
   "outputs": [],
   "source": [
    "run_template='''#!/bin/sh\n",
    "#SBATCH -p <partition>\n",
    "#SBATCH --job-name <jobname>\n",
    "#SBATCH --ntasks=<cores>\n",
    "#SBATCH -o stdout.%J.log\n",
    "#SBATCH -e stderr.%J.log\n",
    "\n",
    "echo \"################################################\"\n",
    "echo \"    $output_name\"\n",
    "echo \"################################################\"\n",
    "\n",
    "date +\"%m/%d %H:%M %Y\"\n",
    "\n",
    "echo \"---- create dir ----\"\n",
    "cd ${SLURM_SUBMIT_DIR} && pwd\n",
    "mkdir ${output_name} && cd ${output_name}\n",
    "cp ../${INPUT_FILENAME}.* ./\n",
    "\n",
    "echo \"---- set hosts file ----\"\n",
    "NODEFILE=$(generate_pbs_nodefile)\n",
    "my_hosts=\"./hosts.${SLURM_JOB_ID}\"\n",
    "cp ${NODEFILE} ${my_hosts}\n",
    "\n",
    "for val in $(cat ${my_hosts} | uniq)\n",
    "do\n",
    "    num=$(cat ${my_hosts} |grep $val | wc -l)\n",
    "    cfx_hosts=${cfx_hosts}$(echo ${val}*${num} | sed s/$/\",\"/g)\n",
    "done\n",
    "cfx_hosts=$(echo $cfx_hosts | sed s/,$/\"\"/) && echo ${cfx_hosts}\n",
    "\n",
    "ls -l\n",
    "\n",
    "echo \"---- set PATH for ANSYS ----\"\n",
    "INSTALL_DIR=/home/xdg-059/apps/ansys\n",
    "export PATH=\"${INSTALL_DIR}/v201/CFX/bin:${PATH}\" && which cfx5solve\n",
    "export ANSYSLMD_LICENSE_FILE=\"<anslmd>\"\n",
    "export ANSYSLI_SERVERS=\"<ansli>\"\n",
    "\n",
    "<command>\n",
    "'''"
   ]
  },
  {
   "cell_type": "code",
   "execution_count": 2,
   "metadata": {
    "collapsed": true,
    "jupyter": {
     "outputs_hidden": true
    }
   },
   "outputs": [
    {
     "data": {
      "application/vnd.jupyter.widget-view+json": {
       "model_id": "cf054c825b29406294041898c7bbf2f7",
       "version_major": 2,
       "version_minor": 0
      },
      "text/plain": [
       "interactive(children=(Text(value='JOB_NAME', description='JOB NAME:', placeholder='Type something'), HTML(valu…"
      ]
     },
     "metadata": {},
     "output_type": "display_data"
    },
    {
     "data": {
      "application/vnd.jupyter.widget-view+json": {
       "model_id": "61ecf83113724e498431581eceb6bf83",
       "version_major": 2,
       "version_minor": 0
      },
      "text/plain": [
       "Button(button_style='success', description='submit', style=ButtonStyle())"
      ]
     },
     "metadata": {},
     "output_type": "display_data"
    },
    {
     "data": {
      "application/vnd.jupyter.widget-view+json": {
       "model_id": "8029bf2e89564decada083082f0fd5fc",
       "version_major": 2,
       "version_minor": 0
      },
      "text/plain": [
       "Output()"
      ]
     },
     "metadata": {},
     "output_type": "display_data"
    }
   ],
   "source": [
    "%matplotlib widget\n",
    "from __future__ import print_function\n",
    "from ipywidgets import interact, interactive, fixed, interact_manual\n",
    "import ipywidgets as widgets\n",
    "from IPython.display import display\n",
    "import pathlib\n",
    "import subprocess\n",
    "\n",
    "_g_license_port = \"1055@xs-license-server-dev-01\"\n",
    "_g_vendor_port = \"2325@xs-license-server-dev-01\"\n",
    "_g_number_of_cores_per_nodes = 40\n",
    "_g_number_of_max_cores = 640\n",
    "_g_filename = \"<inputfile>\"\n",
    "_g_command = \"cfx5solve -def \"+ _g_filename +' -par -par-dist ${cfx_hosts} -part ${NCPUS} -large -start-method \\\"Intel MPI Distributed Parallel\\\" -batch'\n",
    "\n",
    "def my_widget(name, html_slurm, queue, cores, html_app, anslmd, ansli, inp, cmd):\n",
    "    res = {\"jobname\": name, \n",
    "           \"partition\": queue, \n",
    "           \"cores\": cores,\n",
    "           \"anslmd\": anslmd,\n",
    "           \"ansli\": ansli,\n",
    "           \"inputfile\": inp, \"command\": cmd}\n",
    "    #display(res)\n",
    "    return res\n",
    "\n",
    "jobname = widgets.Text(\n",
    "    value='JOB_NAME',\n",
    "    placeholder='Type something',\n",
    "    description='JOB NAME:',\n",
    "    disabled=False\n",
    ")\n",
    "\n",
    "dscrpt_slurm = widgets.HTML(\n",
    "    value=\"<h2> Slurm Settings </h2>\",\n",
    "    placeholder='Some HTML',\n",
    "    description=' ',\n",
    ")\n",
    "\n",
    "number_of_cores = widgets.IntSlider(\n",
    "    min=_g_number_of_cores_per_nodes,\n",
    "    max=_g_number_of_max_cores,\n",
    "    step=_g_number_of_cores_per_nodes,\n",
    "    value=_g_number_of_cores_per_nodes,\n",
    "    description=\"COREs\"\n",
    ")\n",
    "\n",
    "partition = widgets.RadioButtons(\n",
    "    options=['Debug', 'Compute', 'ComputeBeeOND'],\n",
    "    description='PARTITION:',\n",
    "    value='Compute',\n",
    "    disabled=False\n",
    ")\n",
    "\n",
    "dscrpt_app = widgets.HTML(\n",
    "    value=\"<h2> ANSYS CFX Settings </h2>\",\n",
    "    placeholder='Some HTML',\n",
    "    description=' ',\n",
    ")\n",
    "\n",
    "# ANSYSLMD_LICENSE_FILE\n",
    "license = widgets.Text(\n",
    "            value=_g_license_port,\n",
    "            placeholder='Type something',\n",
    "            description='ANSYSLMD',\n",
    "            disabled=True)\n",
    "\n",
    "# ANSYSLI_SERVERS\n",
    "vendor = widgets.Text(\n",
    "            value=_g_vendor_port,\n",
    "            placeholder='Type something',\n",
    "            description='ANSYSLI',\n",
    "            disabled=True)\n",
    "\n",
    "inputfiles = widgets.Text(\n",
    "                value=_g_filename,\n",
    "                placeholder='Type something',\n",
    "                description='INPUTFILE')\n",
    "\n",
    "command = widgets.Textarea(\n",
    "    value=_g_command,\n",
    "    placeholder='Type something',\n",
    "    description='COMMAND:',\n",
    "    disabled=False\n",
    ")\n",
    "\n",
    "def update_cmd(*args):\n",
    "    command.value = _g_command.replace(\"<inputfile>\",inputfiles.value)\n",
    "inputfiles.observe(update_cmd, \"value\")\n",
    "\n",
    "w = interactive(\n",
    "        my_widget, \n",
    "        name  = jobname,\n",
    "        html_slurm = dscrpt_slurm,\n",
    "        queue = partition,\n",
    "        cores = number_of_cores, \n",
    "        html_app = dscrpt_app,\n",
    "        anslmd= license,\n",
    "        ansli = vendor,\n",
    "        inp   = inputfiles, \n",
    "        cmd   = command\n",
    ")\n",
    "\n",
    "display(w)\n",
    "\n",
    "# 直前に登録したcallback\n",
    "callback = None\n",
    "\n",
    "button = widgets.Button(\n",
    "    description='submit',\n",
    "    disabled=False,\n",
    "    button_style='success', # 'success', 'info', 'warning', 'danger' or ''\n",
    ")\n",
    "output = widgets.Output()\n",
    "display(button, output)\n",
    "\n",
    "def create_run_script(param):\n",
    "    run_script = run_template\n",
    "    for key in param:\n",
    "        replace_word = \"<\"+key+\">\"\n",
    "        #print(replace_word, str(param[key]))\n",
    "        run_script = run_script.replace(replace_word, str(param[key]))\n",
    "    p_new = pathlib.Path(\"./run.sh\")\n",
    "    with p_new.open(mode='w') as f:\n",
    "        f.write(run_script)\n",
    "    res1 = subprocess.check_output('echo \\\"sbatch run.sh\\\"', shell=True).decode('utf-8')\n",
    "    print(res1)\n",
    "    res2 = subprocess.check_output('echo \\\"squeue\\\"', shell=True).decode('utf-8')\n",
    "    print(res2)\n",
    "\n",
    "@output.capture(clear_output=True)\n",
    "def on_button_clicked(b):\n",
    "    with output:\n",
    "        create_run_script(w.result)\n",
    "\n",
    "global callback\n",
    "if callback is not None:\n",
    "    button.on_click(callback, remove=True)\n",
    "    \n",
    "button.on_click(on_button_clicked)\n",
    "callback = on_button_clicked\n",
    "\n",
    "\n"
   ]
  }
 ],
 "metadata": {
  "kernelspec": {
   "display_name": "Python 3",
   "language": "python",
   "name": "python3"
  },
  "language_info": {
   "codemirror_mode": {
    "name": "ipython",
    "version": 3
   },
   "file_extension": ".py",
   "mimetype": "text/x-python",
   "name": "python",
   "nbconvert_exporter": "python",
   "pygments_lexer": "ipython3",
   "version": "3.8.3"
  }
 },
 "nbformat": 4,
 "nbformat_minor": 4
}
